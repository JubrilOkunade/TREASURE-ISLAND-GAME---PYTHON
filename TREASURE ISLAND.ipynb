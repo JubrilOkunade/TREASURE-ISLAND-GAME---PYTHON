{
 "cells": [
  {
   "cell_type": "markdown",
   "id": "53e2ce0e",
   "metadata": {},
   "source": [
    "## Introduction\n",
    "\n",
    "This is a game to find the treasure by picking the right options that lead to the treasure. It's a fun game to play and is rated `E` for everyone."
   ]
  },
  {
   "cell_type": "code",
   "execution_count": null,
   "id": "935b7376",
   "metadata": {},
   "outputs": [],
   "source": [
    "# Create a greeting for the game.\n",
    "print('Welcome to treasure island')\n",
    "print('Your mission is to find the treasure')"
   ]
  },
  {
   "cell_type": "code",
   "execution_count": null,
   "id": "f95af6b8",
   "metadata": {},
   "outputs": [],
   "source": [
    "# display the first question of the game.\n",
    "crossroad =input('You are at a crossroad. where do you want to go? type \"left\" or \"right\": ').lower()\n",
    "if crossroad=='left':\n",
    "    # display the second question of the game.\n",
    "    lake =input('You come to a lake. There is an island in the middle of the lake. Type \"wait\" to wait for a boat or type \"swim\" to swim across: ').lower()\n",
    "    if lake=='wait':\n",
    "        # display the Thrid question of the game.\n",
    "        door =input('You arrive at the island unharmed. There is a house with 3 doors. One red, one blue and one yellow. Which one do you choose? ').lower()\n",
    "        if door=='yellow':\n",
    "            print('You win!!!')\n",
    "        else:\n",
    "            print('Game over')\n",
    "    else:\n",
    "        print('Game over')    \n",
    "else:\n",
    "    print('Game over')"
   ]
  }
 ],
 "metadata": {
  "kernelspec": {
   "display_name": "Python 3 (ipykernel)",
   "language": "python",
   "name": "python3"
  },
  "language_info": {
   "codemirror_mode": {
    "name": "ipython",
    "version": 3
   },
   "file_extension": ".py",
   "mimetype": "text/x-python",
   "name": "python",
   "nbconvert_exporter": "python",
   "pygments_lexer": "ipython3",
   "version": "3.9.7"
  }
 },
 "nbformat": 4,
 "nbformat_minor": 5
}
